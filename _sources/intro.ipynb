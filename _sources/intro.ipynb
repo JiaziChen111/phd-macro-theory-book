{
 "cells": [
  {
   "cell_type": "markdown",
   "metadata": {},
   "source": [
    "# PhD Macro with Python\n",
    "\n",
    "This website presents a set of advanced lectures on quantitative economic modeling, designed and written by\n",
    "[Thomas J. Sargent](http://www.tomsargent.com/) and [John Stachurski](http://johnstachurski.net/).\n",
    "\n",
    "For an overview of the series, see [this page](https://quantecon.org/python-lectures/)\n",
    "\n",
    "```{tableofcontents}\n",
    "```\n",
    "\n",
    "\n",
    "\n",
    "\n",
    "```{toctree}\n",
    ":hidden:\n",
    ":titlesonly:\n",
    ":numbered: \n",
    "\n",
    "markov_asset\n",
    "harrison_kreps\n",
    "cons_news\n",
    "smoothing\n",
    "smoothing_tax\n",
    "robustness\n",
    "markov_jump_lq\n",
    "tax_smoothing_1\n",
    "BCG_complete_mkts\n",
    "BCG_incomplete_mkts\n",
    "dyn_stack\n",
    "troubleshooting\n",
    "zreferences\n",
    "```"
   ]
  }
 ],
 "metadata": {
  "jupytext": {
   "text_representation": {
    "extension": ".md",
    "format_name": "myst"
   }
  },
  "kernelspec": {
   "display_name": "Python 3",
   "language": "python",
   "name": "python3"
  },
  "language_info": {
   "codemirror_mode": {
    "name": "ipython",
    "version": 3
   },
   "file_extension": ".py",
   "mimetype": "text/x-python",
   "name": "python",
   "nbconvert_exporter": "python",
   "pygments_lexer": "ipython3",
   "version": "3.8.3"
  },
  "source_map": [
   10
  ]
 },
 "nbformat": 4,
 "nbformat_minor": 4
}